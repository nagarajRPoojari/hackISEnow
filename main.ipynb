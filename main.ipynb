{
 "cells": [
  {
   "attachments": {},
   "cell_type": "markdown",
   "metadata": {},
   "source": [
    "# Import Requirements"
   ]
  },
  {
   "cell_type": "code",
   "execution_count": 2,
   "metadata": {},
   "outputs": [],
   "source": [
    "import numpy as np\n",
    "import nibabel as nib\n",
    "import glob\n",
    "from tensorflow.keras.utils import to_categorical\n",
    "import matplotlib.pyplot as plt\n",
    "from tifffile import imsave , imwrite\n",
    "from pathlib import Path \n",
    "from sklearn.preprocessing import MinMaxScaler\n",
    "scaler = MinMaxScaler()\n",
    "import os\n",
    "from sklearn.model_selection import train_test_split\n",
    "import warnings\n",
    "warnings.filterwarnings(\"ignore\")\n",
    "\n",
    "\n",
    "import tensorflow as tf\n",
    "import tensorflow.keras  as keras\n",
    "from tensorflow.keras.models import Model\n",
    "from tensorflow.keras.layers import Input, Conv3D, MaxPooling3D, concatenate, Conv3DTranspose, BatchNormalization, Dropout, Lambda\n",
    "from tensorflow.keras.optimizers import Adam\n",
    "from tensorflow.keras.metrics import MeanIoU\n",
    "from tensorflow.keras.utils import plot_model\n",
    "from tensorflow.keras.models import load_model\n",
    "import matplotlib.pyplot as plt\n",
    "import cv2 as cv\n"
   ]
  },
  {
   "cell_type": "code",
   "execution_count": 3,
   "metadata": {},
   "outputs": [
    {
     "name": "stdout",
     "output_type": "stream",
     "text": [
      "Requirement already satisfied: segmentation-models-3D in c:\\users\\nagas\\anaconda3\\envs\\gpu\\lib\\site-packages (1.0.4)\n",
      "Requirement already satisfied: keras-applications>=1.0.8 in c:\\users\\nagas\\anaconda3\\envs\\gpu\\lib\\site-packages (from segmentation-models-3D) (1.0.8)\n",
      "Requirement already satisfied: classification-models-3D>=1.0.6 in c:\\users\\nagas\\anaconda3\\envs\\gpu\\lib\\site-packages (from segmentation-models-3D) (1.0.7)\n",
      "Requirement already satisfied: tensorflow>=2.8.0 in c:\\users\\nagas\\anaconda3\\envs\\gpu\\lib\\site-packages (from segmentation-models-3D) (2.10.1)\n",
      "Requirement already satisfied: numpy>=1.9.1 in c:\\users\\nagas\\anaconda3\\envs\\gpu\\lib\\site-packages (from keras-applications>=1.0.8->segmentation-models-3D) (1.24.3)\n",
      "Requirement already satisfied: h5py in c:\\users\\nagas\\anaconda3\\envs\\gpu\\lib\\site-packages (from keras-applications>=1.0.8->segmentation-models-3D) (3.8.0)\n",
      "Requirement already satisfied: setuptools in c:\\users\\nagas\\anaconda3\\envs\\gpu\\lib\\site-packages (from tensorflow>=2.8.0->segmentation-models-3D) (67.7.2)\n",
      "Requirement already satisfied: typing-extensions>=3.6.6 in c:\\users\\nagas\\anaconda3\\envs\\gpu\\lib\\site-packages (from tensorflow>=2.8.0->segmentation-models-3D) (4.5.0)\n",
      "Requirement already satisfied: protobuf<3.20,>=3.9.2 in c:\\users\\nagas\\anaconda3\\envs\\gpu\\lib\\site-packages (from tensorflow>=2.8.0->segmentation-models-3D) (3.19.6)\n",
      "Requirement already satisfied: opt-einsum>=2.3.2 in c:\\users\\nagas\\anaconda3\\envs\\gpu\\lib\\site-packages (from tensorflow>=2.8.0->segmentation-models-3D) (3.3.0)\n",
      "Requirement already satisfied: grpcio<2.0,>=1.24.3 in c:\\users\\nagas\\anaconda3\\envs\\gpu\\lib\\site-packages (from tensorflow>=2.8.0->segmentation-models-3D) (1.54.0)\n",
      "Requirement already satisfied: termcolor>=1.1.0 in c:\\users\\nagas\\anaconda3\\envs\\gpu\\lib\\site-packages (from tensorflow>=2.8.0->segmentation-models-3D) (2.3.0)\n",
      "Requirement already satisfied: tensorflow-estimator<2.11,>=2.10.0 in c:\\users\\nagas\\anaconda3\\envs\\gpu\\lib\\site-packages (from tensorflow>=2.8.0->segmentation-models-3D) (2.10.0)\n",
      "Requirement already satisfied: google-pasta>=0.1.1 in c:\\users\\nagas\\anaconda3\\envs\\gpu\\lib\\site-packages (from tensorflow>=2.8.0->segmentation-models-3D) (0.2.0)\n",
      "Requirement already satisfied: gast<=0.4.0,>=0.2.1 in c:\\users\\nagas\\anaconda3\\envs\\gpu\\lib\\site-packages (from tensorflow>=2.8.0->segmentation-models-3D) (0.4.0)\n",
      "Requirement already satisfied: libclang>=13.0.0 in c:\\users\\nagas\\anaconda3\\envs\\gpu\\lib\\site-packages (from tensorflow>=2.8.0->segmentation-models-3D) (16.0.0)\n",
      "Requirement already satisfied: absl-py>=1.0.0 in c:\\users\\nagas\\anaconda3\\envs\\gpu\\lib\\site-packages (from tensorflow>=2.8.0->segmentation-models-3D) (1.4.0)\n",
      "Requirement already satisfied: tensorflow-io-gcs-filesystem>=0.23.1 in c:\\users\\nagas\\anaconda3\\envs\\gpu\\lib\\site-packages (from tensorflow>=2.8.0->segmentation-models-3D) (0.31.0)\n",
      "Requirement already satisfied: wrapt>=1.11.0 in c:\\users\\nagas\\anaconda3\\envs\\gpu\\lib\\site-packages (from tensorflow>=2.8.0->segmentation-models-3D) (1.15.0)\n",
      "Requirement already satisfied: packaging in c:\\users\\nagas\\anaconda3\\envs\\gpu\\lib\\site-packages (from tensorflow>=2.8.0->segmentation-models-3D) (23.1)\n",
      "Requirement already satisfied: keras-preprocessing>=1.1.1 in c:\\users\\nagas\\anaconda3\\envs\\gpu\\lib\\site-packages (from tensorflow>=2.8.0->segmentation-models-3D) (1.1.2)\n",
      "Requirement already satisfied: flatbuffers>=2.0 in c:\\users\\nagas\\anaconda3\\envs\\gpu\\lib\\site-packages (from tensorflow>=2.8.0->segmentation-models-3D) (23.3.3)\n",
      "Requirement already satisfied: keras<2.11,>=2.10.0 in c:\\users\\nagas\\anaconda3\\envs\\gpu\\lib\\site-packages (from tensorflow>=2.8.0->segmentation-models-3D) (2.10.0)\n",
      "Requirement already satisfied: astunparse>=1.6.0 in c:\\users\\nagas\\anaconda3\\envs\\gpu\\lib\\site-packages (from tensorflow>=2.8.0->segmentation-models-3D) (1.6.3)\n",
      "Requirement already satisfied: tensorboard<2.11,>=2.10 in c:\\users\\nagas\\anaconda3\\envs\\gpu\\lib\\site-packages (from tensorflow>=2.8.0->segmentation-models-3D) (2.10.1)\n",
      "Requirement already satisfied: six>=1.12.0 in c:\\users\\nagas\\anaconda3\\envs\\gpu\\lib\\site-packages (from tensorflow>=2.8.0->segmentation-models-3D) (1.16.0)\n",
      "Requirement already satisfied: wheel<1.0,>=0.23.0 in c:\\users\\nagas\\anaconda3\\envs\\gpu\\lib\\site-packages (from astunparse>=1.6.0->tensorflow>=2.8.0->segmentation-models-3D) (0.40.0)\n",
      "Requirement already satisfied: google-auth<3,>=1.6.3 in c:\\users\\nagas\\anaconda3\\envs\\gpu\\lib\\site-packages (from tensorboard<2.11,>=2.10->tensorflow>=2.8.0->segmentation-models-3D) (2.17.3)\n",
      "Requirement already satisfied: tensorboard-data-server<0.7.0,>=0.6.0 in c:\\users\\nagas\\anaconda3\\envs\\gpu\\lib\\site-packages (from tensorboard<2.11,>=2.10->tensorflow>=2.8.0->segmentation-models-3D) (0.6.1)\n",
      "Requirement already satisfied: google-auth-oauthlib<0.5,>=0.4.1 in c:\\users\\nagas\\anaconda3\\envs\\gpu\\lib\\site-packages (from tensorboard<2.11,>=2.10->tensorflow>=2.8.0->segmentation-models-3D) (0.4.6)\n",
      "Requirement already satisfied: tensorboard-plugin-wit>=1.6.0 in c:\\users\\nagas\\anaconda3\\envs\\gpu\\lib\\site-packages (from tensorboard<2.11,>=2.10->tensorflow>=2.8.0->segmentation-models-3D) (1.8.1)\n",
      "Requirement already satisfied: werkzeug>=1.0.1 in c:\\users\\nagas\\anaconda3\\envs\\gpu\\lib\\site-packages (from tensorboard<2.11,>=2.10->tensorflow>=2.8.0->segmentation-models-3D) (2.3.4)\n",
      "Requirement already satisfied: markdown>=2.6.8 in c:\\users\\nagas\\anaconda3\\envs\\gpu\\lib\\site-packages (from tensorboard<2.11,>=2.10->tensorflow>=2.8.0->segmentation-models-3D) (3.4.3)\n",
      "Requirement already satisfied: requests<3,>=2.21.0 in c:\\users\\nagas\\anaconda3\\envs\\gpu\\lib\\site-packages (from tensorboard<2.11,>=2.10->tensorflow>=2.8.0->segmentation-models-3D) (2.29.0)\n",
      "Requirement already satisfied: cachetools<6.0,>=2.0.0 in c:\\users\\nagas\\anaconda3\\envs\\gpu\\lib\\site-packages (from google-auth<3,>=1.6.3->tensorboard<2.11,>=2.10->tensorflow>=2.8.0->segmentation-models-3D) (5.3.0)\n",
      "Requirement already satisfied: pyasn1-modules>=0.2.1 in c:\\users\\nagas\\anaconda3\\envs\\gpu\\lib\\site-packages (from google-auth<3,>=1.6.3->tensorboard<2.11,>=2.10->tensorflow>=2.8.0->segmentation-models-3D) (0.3.0)\n",
      "Requirement already satisfied: rsa<5,>=3.1.4 in c:\\users\\nagas\\anaconda3\\envs\\gpu\\lib\\site-packages (from google-auth<3,>=1.6.3->tensorboard<2.11,>=2.10->tensorflow>=2.8.0->segmentation-models-3D) (4.9)\n",
      "Requirement already satisfied: requests-oauthlib>=0.7.0 in c:\\users\\nagas\\anaconda3\\envs\\gpu\\lib\\site-packages (from google-auth-oauthlib<0.5,>=0.4.1->tensorboard<2.11,>=2.10->tensorflow>=2.8.0->segmentation-models-3D) (1.3.1)\n",
      "Requirement already satisfied: importlib-metadata>=4.4 in c:\\users\\nagas\\anaconda3\\envs\\gpu\\lib\\site-packages (from markdown>=2.6.8->tensorboard<2.11,>=2.10->tensorflow>=2.8.0->segmentation-models-3D) (6.6.0)\n",
      "Requirement already satisfied: urllib3<1.27,>=1.21.1 in c:\\users\\nagas\\anaconda3\\envs\\gpu\\lib\\site-packages (from requests<3,>=2.21.0->tensorboard<2.11,>=2.10->tensorflow>=2.8.0->segmentation-models-3D) (1.26.15)\n",
      "Requirement already satisfied: idna<4,>=2.5 in c:\\users\\nagas\\anaconda3\\envs\\gpu\\lib\\site-packages (from requests<3,>=2.21.0->tensorboard<2.11,>=2.10->tensorflow>=2.8.0->segmentation-models-3D) (3.4)\n",
      "Requirement already satisfied: charset-normalizer<4,>=2 in c:\\users\\nagas\\anaconda3\\envs\\gpu\\lib\\site-packages (from requests<3,>=2.21.0->tensorboard<2.11,>=2.10->tensorflow>=2.8.0->segmentation-models-3D) (3.1.0)\n",
      "Requirement already satisfied: certifi>=2017.4.17 in c:\\users\\nagas\\anaconda3\\envs\\gpu\\lib\\site-packages (from requests<3,>=2.21.0->tensorboard<2.11,>=2.10->tensorflow>=2.8.0->segmentation-models-3D) (2022.12.7)\n",
      "Requirement already satisfied: MarkupSafe>=2.1.1 in c:\\users\\nagas\\anaconda3\\envs\\gpu\\lib\\site-packages (from werkzeug>=1.0.1->tensorboard<2.11,>=2.10->tensorflow>=2.8.0->segmentation-models-3D) (2.1.2)\n",
      "Requirement already satisfied: zipp>=0.5 in c:\\users\\nagas\\anaconda3\\envs\\gpu\\lib\\site-packages (from importlib-metadata>=4.4->markdown>=2.6.8->tensorboard<2.11,>=2.10->tensorflow>=2.8.0->segmentation-models-3D) (3.15.0)\n",
      "Requirement already satisfied: pyasn1<0.6.0,>=0.4.6 in c:\\users\\nagas\\anaconda3\\envs\\gpu\\lib\\site-packages (from pyasn1-modules>=0.2.1->google-auth<3,>=1.6.3->tensorboard<2.11,>=2.10->tensorflow>=2.8.0->segmentation-models-3D) (0.5.0)\n",
      "Requirement already satisfied: oauthlib>=3.0.0 in c:\\users\\nagas\\anaconda3\\envs\\gpu\\lib\\site-packages (from requests-oauthlib>=0.7.0->google-auth-oauthlib<0.5,>=0.4.1->tensorboard<2.11,>=2.10->tensorflow>=2.8.0->segmentation-models-3D) (3.2.2)\n",
      "Segmentation Models: using `tf.keras` framework.\n"
     ]
    },
    {
     "name": "stderr",
     "output_type": "stream",
     "text": [
      "WARNING: Ignoring invalid distribution -rotobuf (c:\\users\\nagas\\anaconda3\\envs\\gpu\\lib\\site-packages)\n",
      "WARNING: Ignoring invalid distribution - (c:\\users\\nagas\\anaconda3\\envs\\gpu\\lib\\site-packages)\n",
      "WARNING: Ignoring invalid distribution -rotobuf (c:\\users\\nagas\\anaconda3\\envs\\gpu\\lib\\site-packages)\n",
      "WARNING: Ignoring invalid distribution - (c:\\users\\nagas\\anaconda3\\envs\\gpu\\lib\\site-packages)\n",
      "WARNING: Ignoring invalid distribution -rotobuf (c:\\users\\nagas\\anaconda3\\envs\\gpu\\lib\\site-packages)\n",
      "WARNING: Ignoring invalid distribution - (c:\\users\\nagas\\anaconda3\\envs\\gpu\\lib\\site-packages)\n",
      "WARNING: Ignoring invalid distribution -rotobuf (c:\\users\\nagas\\anaconda3\\envs\\gpu\\lib\\site-packages)\n",
      "WARNING: Ignoring invalid distribution - (c:\\users\\nagas\\anaconda3\\envs\\gpu\\lib\\site-packages)\n",
      "WARNING: Ignoring invalid distribution -rotobuf (c:\\users\\nagas\\anaconda3\\envs\\gpu\\lib\\site-packages)\n",
      "WARNING: Ignoring invalid distribution - (c:\\users\\nagas\\anaconda3\\envs\\gpu\\lib\\site-packages)\n",
      "WARNING: Ignoring invalid distribution -rotobuf (c:\\users\\nagas\\anaconda3\\envs\\gpu\\lib\\site-packages)\n",
      "WARNING: Ignoring invalid distribution - (c:\\users\\nagas\\anaconda3\\envs\\gpu\\lib\\site-packages)\n"
     ]
    }
   ],
   "source": [
    "!pip install segmentation-models-3D\n",
    "import segmentation_models_3D as sm"
   ]
  },
  {
   "attachments": {},
   "cell_type": "markdown",
   "metadata": {},
   "source": [
    "# Data Preprocessing"
   ]
  },
  {
   "attachments": {},
   "cell_type": "markdown",
   "metadata": {},
   "source": [
    "## Define custom DataGenerator"
   ]
  },
  {
   "cell_type": "code",
   "execution_count": 4,
   "metadata": {},
   "outputs": [],
   "source": [
    "def load_image(dir_name,image_list):\n",
    "    images=[]\n",
    "    for i , image_name in enumerate(image_list):\n",
    "        image_name=image_name+'/'+image_name\n",
    "        flair=nib.load(dir_name+image_name+'_flair.nii').get_fdata()\n",
    "        flair=scaler.fit_transform(flair.reshape(-1, flair.shape[-1])).reshape(flair.shape)\n",
    "        t1ce=nib.load(dir_name+image_name+'_t1ce.nii').get_fdata()\n",
    "        t1ce=scaler.fit_transform(t1ce.reshape(-1, t1ce.shape[-1])).reshape(t1ce.shape)\n",
    "        t2=nib.load(dir_name+image_name+'_t2.nii').get_fdata()\n",
    "        t2=scaler.fit_transform(t2.reshape(-1, t2.shape[-1])).reshape(t2.shape)\n",
    "        \n",
    "        temp_combined_images = np.stack([flair, t1ce,t2], axis=3)\n",
    "        temp_combined_images=temp_combined_images[56:184, 56:184, 13:141]\n",
    "        images.append(temp_combined_images)\n",
    "            \n",
    "    images=np.array(images)\n",
    "    \n",
    "    return(images)"
   ]
  },
  {
   "cell_type": "code",
   "execution_count": 5,
   "metadata": {},
   "outputs": [],
   "source": [
    "def load_mask(dir_name,image_list):\n",
    "    masks=[]\n",
    "    for image_name in image_list:\n",
    "        image_name=image_name+'/'+image_name\n",
    "        if image_name == 'BraTS20_Training_355/BraTS20_Training_355':\n",
    "            temp_mask= nib.load(dir_name + 'BraTS20_Training_355/W39_1998.09.19_Segm.nii').get_fdata()\n",
    "        else :\n",
    "            temp_mask=nib.load(dir_name+image_name+'_seg.nii').get_fdata()\n",
    "        temp_mask=temp_mask.astype(np.uint8)\n",
    "        temp_mask[temp_mask==4] = 3 \n",
    "        temp_mask = temp_mask[56:184, 56:184, 13:141]\n",
    "        \n",
    "        temp_mask= to_categorical(temp_mask, num_classes=4)\n",
    "        \n",
    "        masks.append(temp_mask)\n",
    "    \n",
    "    masks=np.array(masks)\n",
    "    return(masks)"
   ]
  },
  {
   "cell_type": "code",
   "execution_count": 6,
   "metadata": {},
   "outputs": [],
   "source": [
    "def ImageLoader(img_dir,img_list,mask_dir,mask_list, batch_size=16):\n",
    "    size=len(img_list)\n",
    "    i=0\n",
    "    while True:\n",
    "        batch_start=0\n",
    "        batch_end=batch_size\n",
    "        while batch_start< size:\n",
    "            end=min(batch_end,size)\n",
    "            X=load_image(img_dir, img_list[batch_start:end])\n",
    "            \n",
    "            Y=load_mask(mask_dir, mask_list[batch_start:end])\n",
    "            \n",
    "            yield (X,Y)    \n",
    "            batch_start += batch_size   \n",
    "            batch_end += batch_size"
   ]
  },
  {
   "cell_type": "code",
   "execution_count": 7,
   "metadata": {},
   "outputs": [],
   "source": [
    "train_img_dir='BraTS2020_TrainingData/MICCAI_BraTS2020_TrainingData/'\n",
    "train_masks_dir='BraTS2020_TrainingData/MICCAI_BraTS2020_TrainingData/'"
   ]
  },
  {
   "cell_type": "code",
   "execution_count": 8,
   "metadata": {},
   "outputs": [],
   "source": [
    "img_list=sorted(os.listdir(path='BraTS2020_TrainingData/MICCAI_BraTS2020_TrainingData'))\n",
    "mask_list=sorted(os.listdir(path='BraTS2020_TrainingData/MICCAI_BraTS2020_TrainingData'))"
   ]
  },
  {
   "cell_type": "code",
   "execution_count": 9,
   "metadata": {},
   "outputs": [],
   "source": [
    "train_data, val_data = train_test_split(img_list,test_size=0.2) "
   ]
  },
  {
   "cell_type": "code",
   "execution_count": 10,
   "metadata": {},
   "outputs": [],
   "source": [
    "batch_size=1\n",
    "steps_per_epoch = len(train_data)//batch_size\n",
    "val_steps_per_epoch=len(val_data)//batch_size"
   ]
  },
  {
   "cell_type": "code",
   "execution_count": 11,
   "metadata": {},
   "outputs": [],
   "source": [
    "train_img_datagen = ImageLoader(train_img_dir, train_data, \n",
    "                                train_masks_dir, train_data, batch_size)\n",
    "val_img_datagen = ImageLoader(train_img_dir, val_data, \n",
    "                                train_masks_dir, val_data, batch_size)"
   ]
  },
  {
   "attachments": {},
   "cell_type": "markdown",
   "metadata": {},
   "source": [
    "# Build Unet Model"
   ]
  },
  {
   "attachments": {},
   "cell_type": "markdown",
   "metadata": {},
   "source": [
    "### Losses \n",
    "* **Dice loss**\n",
    "    * Dice coefficient , which is essentially a measure of overlap between two samples. This measure ranges from 0 to 1 where a Dice coefficient of 1 denotes perfect and complete overlap.\n",
    "    * $Dice loss = 1-Dice coeff$\n",
    "* **Categorical Focal loss**\n",
    "    * Focal loss is said to perform better than Cross-Entropy loss in many cases.\n",
    "    * $Focalloss=-\\sum_{i=0}^n(i-p_i)^y log_b(p_i)$\n",
    "    "
   ]
  },
  {
   "cell_type": "code",
   "execution_count": 12,
   "metadata": {},
   "outputs": [],
   "source": [
    "wt0, wt1, wt2, wt3 = 0.25,0.25,0.25,0.25\n",
    "dice_loss = sm.losses.DiceLoss(class_weights=np.array([wt0, wt1, wt2, wt3])) \n",
    "focal_loss = sm.losses.CategoricalFocalLoss()\n",
    "total_loss = dice_loss + (1 * focal_loss)\n",
    "\n",
    "metrics = ['accuracy', sm.metrics.IOUScore(threshold=0.5),dice_loss]\n",
    "\n",
    "LR = 0.0001\n",
    "optim = keras.optimizers.Adam(LR)"
   ]
  },
  {
   "attachments": {},
   "cell_type": "markdown",
   "metadata": {},
   "source": [
    "### Metrics\n",
    "* **Accuracy** \n",
    "    * $ Acc=\\frac{TP+TN}{TP+TN+FP+FN}$\n",
    "* **MeanIOU** \n",
    "    * $ IOU=\\frac{TP}{TP+FP+FN}$\n",
    "* **DiceCoeff** \n",
    "    * $ Dice=\\frac{2TP}{2TP+FP+FN}$\n",
    "* **precision** \n",
    "    * $ Prec=\\frac{TP}{TP+FP}$\n",
    "* **sensitivity** \n",
    "    * $ Sens=\\frac{TP}{TP+FN}$\n",
    "* **specificity** \n",
    "    * $ Spec=\\frac{TP}{TP+TN+FP+FN}$\n",
    "\n"
   ]
  },
  {
   "cell_type": "code",
   "execution_count": 13,
   "metadata": {},
   "outputs": [],
   "source": [
    "from losses_and_metrics import dice_coef , dice_coef_edema , dice_coef_enhancing, dice_coef_necrotic , sensitivity, specificity, precision\n",
    "from UnetModel import Unet3d"
   ]
  },
  {
   "cell_type": "code",
   "execution_count": 14,
   "metadata": {},
   "outputs": [],
   "source": [
    "import pydot \n",
    "import graphviz"
   ]
  },
  {
   "cell_type": "code",
   "execution_count": 15,
   "metadata": {},
   "outputs": [],
   "source": [
    "model = Unet3d(IMG_HEIGHT=128, \n",
    "                          IMG_WIDTH=128, \n",
    "                          IMG_DEPTH=128, \n",
    "                          IMG_CHANNELS=3, \n",
    "                          num_classes=4)\n"
   ]
  },
  {
   "attachments": {},
   "cell_type": "markdown",
   "metadata": {},
   "source": [
    "### Callbacks"
   ]
  },
  {
   "cell_type": "code",
   "execution_count": 16,
   "metadata": {},
   "outputs": [],
   "source": [
    "early_stopper=tf.keras.callbacks.EarlyStopping(\n",
    "    monitor='val_loss',\n",
    "    patience=3\n",
    ")\n",
    "\n",
    "reduce_lr=tf.keras.callbacks.ReduceLROnPlateau(\n",
    "    monitor='val_loss',\n",
    "    factor=0.1,\n",
    "    patience=10,\n",
    ")\n",
    "tensorboard_clbk=tf.keras.callbacks.TensorBoard(\n",
    "    log_dir='logs',\n",
    "    write_graph=True,\n",
    "    update_freq='epoch',\n",
    ")"
   ]
  },
  {
   "attachments": {},
   "cell_type": "markdown",
   "metadata": {},
   "source": [
    "### Train the Model"
   ]
  },
  {
   "cell_type": "code",
   "execution_count": 17,
   "metadata": {},
   "outputs": [],
   "source": [
    "# history=model.fit( train_img_datagen,\n",
    "#          steps_per_epoch=steps_per_epoch,\n",
    "#          epochs=10,\n",
    "#          verbose=1,\n",
    "#            callbacks=[reduce_lr, early_stopper,tensorboard_clbk],\n",
    "#           validation_data=val_img_datagen,\n",
    "#           validation_steps=len(val_data)\n",
    "#         )\n",
    "\n",
    "\n",
    "#model.save('unet3d_0.h5')"
   ]
  },
  {
   "attachments": {},
   "cell_type": "markdown",
   "metadata": {},
   "source": [
    "### Load Model"
   ]
  },
  {
   "cell_type": "code",
   "execution_count": 18,
   "metadata": {},
   "outputs": [],
   "source": [
    "model=load_model('unet3d_0.h5',compile=False)"
   ]
  },
  {
   "cell_type": "code",
   "execution_count": 19,
   "metadata": {},
   "outputs": [],
   "source": [
    "model.compile(loss=total_loss, optimizer=tf.keras.optimizers.Adam(learning_rate=0.0001), metrics = ['accuracy',tf.keras.metrics.MeanIoU(num_classes=4), dice_coef, precision, sensitivity, specificity, dice_coef_necrotic, dice_coef_edema ,dice_coef_enhancing] )"
   ]
  },
  {
   "attachments": {},
   "cell_type": "markdown",
   "metadata": {},
   "source": [
    "## Test"
   ]
  },
  {
   "cell_type": "code",
   "execution_count": 94,
   "metadata": {},
   "outputs": [],
   "source": [
    "from predictor import predict_for \n",
    "import random"
   ]
  },
  {
   "cell_type": "code",
   "execution_count": 21,
   "metadata": {},
   "outputs": [],
   "source": [
    "flair=nib.load('BraTS2020_TrainingData/MICCAI_BraTS2020_TrainingData/BraTS20_Training_033/BraTS20_Training_033_flair.nii').get_fdata()\n",
    "t2=nib.load('BraTS2020_TrainingData/MICCAI_BraTS2020_TrainingData/BraTS20_Training_033/BraTS20_Training_033_t2.nii').get_fdata()\n",
    "t1ce=nib.load('BraTS2020_TrainingData/MICCAI_BraTS2020_TrainingData/BraTS20_Training_033/BraTS20_Training_033_t1ce.nii').get_fdata()"
   ]
  },
  {
   "cell_type": "code",
   "execution_count": 22,
   "metadata": {},
   "outputs": [],
   "source": [
    "mask=nib.load('BraTS2020_TrainingData/MICCAI_BraTS2020_TrainingData/BraTS20_Training_033/BraTS20_Training_033_seg.nii').get_fdata()"
   ]
  },
  {
   "cell_type": "code",
   "execution_count": 23,
   "metadata": {},
   "outputs": [
    {
     "name": "stdout",
     "output_type": "stream",
     "text": [
      "1/1 [==============================] - 21s 21s/step\n"
     ]
    }
   ],
   "source": [
    "res=predict_for(flair,t2,t1ce,model)"
   ]
  },
  {
   "cell_type": "code",
   "execution_count": 97,
   "metadata": {},
   "outputs": [],
   "source": [
    "def predict_for(flair, t2, t1ce, model):\n",
    "    flair = scaler.fit_transform(flair.reshape(-1, flair.shape[-1])).reshape(\n",
    "        flair.shape\n",
    "    )\n",
    "    t1ce = scaler.fit_transform(t1ce.reshape(-1, t1ce.shape[-1])).reshape(t1ce.shape)\n",
    "    t2 = scaler.fit_transform(t2.reshape(-1, t2.shape[-1])).reshape(t2.shape)\n",
    "    temp_combined_images = np.stack([flair, t1ce, t2], axis=3)\n",
    "    temp_combined_images = temp_combined_images[56:184, 56:184, 13:141]\n",
    "\n",
    "    inp = np.expand_dims(temp_combined_images, axis=0)\n",
    "\n",
    "    ##predicting\n",
    "\n",
    "    res = model.predict(inp)\n",
    "    print(np.unique(res))\n",
    "    return res"
   ]
  },
  {
   "cell_type": "code",
   "execution_count": 98,
   "metadata": {},
   "outputs": [],
   "source": [
    "def random_predictor(model):\n",
    "    path_ = \"BraTS2020_TrainingData/MICCAI_BraTS2020_TrainingData/\"\n",
    "    n = random.randint(100, 369)\n",
    "    flair = nib.load(\n",
    "        f\"BraTS2020_TrainingData/MICCAI_BraTS2020_TrainingData/BraTS20_Training_{n}/BraTS20_Training_{n}_flair.nii\"\n",
    "    ).get_fdata()\n",
    "    t2 = nib.load(\n",
    "        f\"BraTS2020_TrainingData/MICCAI_BraTS2020_TrainingData/BraTS20_Training_{n}/BraTS20_Training_{n}_t2.nii\"\n",
    "    ).get_fdata()\n",
    "    t1ce = nib.load(\n",
    "        f\"BraTS2020_TrainingData/MICCAI_BraTS2020_TrainingData/BraTS20_Training_{n}/BraTS20_Training_{n}_t1ce.nii\"\n",
    "    ).get_fdata()\n",
    "\n",
    "    mask=nib.load(f'BraTS2020_TrainingData/MICCAI_BraTS2020_TrainingData/BraTS20_Training_{n}/BraTS20_Training_{n}_seg.nii').get_fdata()\n",
    "    \n",
    "    temp_mask=mask.astype(np.uint8)\n",
    "    temp_mask[temp_mask==4] = 3 \n",
    "    temp_mask = temp_mask[56:184, 56:184, 13:141]\n",
    "    mask= to_categorical(temp_mask, num_classes=4)\n",
    "    \n",
    "\n",
    "    res = predict_for(flair, t2, t1ce, model)\n",
    "    print(np.unique(res))\n",
    "    fig, ax = plt.subplots(2, 4)\n",
    "    s = random.randint(40, 100)\n",
    "    ax[0, 0].imshow(res[0, :, :, s, 0], cmap=\"gray\")\n",
    "    ax[0,0].axis(False)\n",
    "    ax[0,0].set_title('whole tumor')\n",
    "    ax[0, 1].imshow(res[0, :, :, s, 1], cmap=\"gray\")\n",
    "    ax[0,1].axis(False)\n",
    "    ax[0,1].set_title('necrotic/core')\n",
    "    ax[0, 2].imshow(res[0, :, :, s, 2], cmap=\"gray\")\n",
    "    ax[0,2].axis(False)\n",
    "    ax[0,2].set_title('edema')\n",
    "    ax[0, 3].imshow(res[0, :, :, s, 3], cmap=\"gray\")\n",
    "    ax[0,3].axis(False)\n",
    "    ax[0,3].set_title('enhancing')\n",
    "    \n",
    "    ax[1, 0].imshow(mask[ :, :, s, 0], cmap=\"gray\")\n",
    "    ax[1,0].axis(False)\n",
    "    ax[1,0].set_title('whole tumor')\n",
    "    ax[1, 1].imshow(mask[ :, :, s, 1], cmap=\"gray\")\n",
    "    ax[1,1].axis(False)\n",
    "    ax[1,1].set_title('necrotic/core')\n",
    "    ax[1, 2].imshow(mask[ :, :, s, 2], cmap=\"gray\")\n",
    "    ax[1,2].axis(False)\n",
    "    ax[1,2].set_title('edema')\n",
    "    ax[1,3].imshow(mask[ :, :, s, 3], cmap=\"gray\")\n",
    "    ax[1,3].axis(False)\n",
    "    ax[1,3].set_title('enhancing')\n",
    "\n",
    "    return res"
   ]
  },
  {
   "cell_type": "code",
   "execution_count": 99,
   "metadata": {},
   "outputs": [
    {
     "name": "stdout",
     "output_type": "stream",
     "text": [
      "1/1 [==============================] - 0s 371ms/step\n",
      "[0.0000000e+00 1.1759931e-38 1.1761724e-38 ... 9.9999976e-01 9.9999988e-01\n",
      " 1.0000000e+00]\n",
      "[0.0000000e+00 1.1759931e-38 1.1761724e-38 ... 9.9999976e-01 9.9999988e-01\n",
      " 1.0000000e+00]\n"
     ]
    },
    {
     "data": {
      "image/png": "[encoded data removed]",
      "text/plain": [
       "<Figure size 640x480 with 8 Axes>"
      ]
     },
     "metadata": {},
     "output_type": "display_data"
    }
   ],
   "source": [
    "res=random_predictor(model)"
   ]
  },
  {
   "attachments": {},
   "cell_type": "markdown",
   "metadata": {},
   "source": [
    "# Evaluate"
   ]
  },
  {
   "cell_type": "code",
   "execution_count": 45,
   "metadata": {},
   "outputs": [
    {
     "name": "stdout",
     "output_type": "stream",
     "text": [
      "74/74 [==============================] - 181s 2s/step - loss: 0.8491 - accuracy: 0.9706 - mean_io_u: 0.7482 - dice_coef: 1.0000 - precision: 0.9710 - sensitivity: 0.9703 - specificity: 0.9903 - dice_coef_necrotic: 1.0000 - dice_coef_edema: 1.0000 - dice_coef_enhancing: 1.0000\n"
     ]
    },
    {
     "data": {
      "text/plain": [
       "[0.8490826487541199,\n",
       " 0.9705536365509033,\n",
       " 0.7482298016548157,\n",
       " 0.9999657869338989,\n",
       " 0.9709919095039368,\n",
       " 0.9703109264373779,\n",
       " 0.9903402328491211,\n",
       " 0.9999998807907104,\n",
       " 1.0,\n",
       " 1.0]"
      ]
     },
     "execution_count": 45,
     "metadata": {},
     "output_type": "execute_result"
    }
   ],
   "source": [
    "res=model.evaluate(val_img_datagen, steps=len(val_data))\n",
    "print(res)"
   ]
  },
  {
   "attachments": {},
   "cell_type": "markdown",
   "metadata": {},
   "source": [
    "* **Mean IOU score = 0.7482**\n",
    "* **Accuracy = 97.06%**\n",
    "* **Precision = 97.1%**"
   ]
  },
  {
   "cell_type": "code",
   "execution_count": 125,
   "metadata": {},
   "outputs": [],
   "source": [
    "def save_tiff(res,dir_):\n",
    "    for i in range(res.shape[1]):\n",
    "        img=res[0,:,:,i,2]\n",
    "        cv.imwrite(f'{dir_}/{i}.tiff',img)"
   ]
  },
  {
   "cell_type": "code",
   "execution_count": null,
   "metadata": {},
   "outputs": [],
   "source": [
    "save_tiff(res,'ss')"
   ]
  },
  {
   "cell_type": "code",
   "execution_count": 130,
   "metadata": {},
   "outputs": [],
   "source": [
    "import cv2 as cv"
   ]
  },
  {
   "cell_type": "code",
   "execution_count": 66,
   "metadata": {},
   "outputs": [],
   "source": [
    "def show_all_slices(res_):\n",
    "    for i in range(res_.shape[2]):\n",
    "        cv.imshow(\"\",res_[0,:,:,i,2])\n",
    "\n",
    "        if  cv.waitKey(50) & 0xFF==ord(\"d\"):\n",
    "            break\n",
    "    cv.destroyAllWindows()\n",
    "        \n",
    "        "
   ]
  },
  {
   "cell_type": "code",
   "execution_count": 69,
   "metadata": {},
   "outputs": [],
   "source": [
    "show_all_slices(res)"
   ]
  },
  {
   "cell_type": "code",
   "execution_count": null,
   "metadata": {},
   "outputs": [],
   "source": [
    "d"
   ]
  }
 ],
 "metadata": {
  "kernelspec": {
   "display_name": "gpu",
   "language": "python",
   "name": "python3"
  },
  "language_info": {
   "codemirror_mode": {
    "name": "ipython",
    "version": 3
   },
   "file_extension": ".py",
   "mimetype": "text/x-python",
   "name": "python",
   "nbconvert_exporter": "python",
   "pygments_lexer": "ipython3",
   "version": "3.9.16"
  },
  "orig_nbformat": 4
 },
 "nbformat": 4,
 "nbformat_minor": 2
}
